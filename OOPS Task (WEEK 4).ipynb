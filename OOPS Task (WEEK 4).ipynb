{
 "cells": [
  {
   "cell_type": "code",
   "execution_count": null,
   "id": "899e8281-68ab-442a-b454-9cbd6904f27a",
   "metadata": {},
   "outputs": [],
   "source": [
    "#Q1\n",
    "class Vehicle:\n",
    "    def __init__(self, name_of_vehicle, max_speed, average_of_vehicle):\n",
    "        self.name_of_vehicle = name_of_vehicle\n",
    "        self.max_speed = max_speed\n",
    "        self.average_of_vehicle = average_of_vehicle\n"
   ]
  },
  {
   "cell_type": "code",
   "execution_count": null,
   "id": "b45f4d67-7ac5-450e-89fb-bcd41814a928",
   "metadata": {},
   "outputs": [],
   "source": []
  },
  {
   "cell_type": "code",
   "execution_count": 1,
   "id": "f54781bb-247b-4b28-ae0c-65fcbfd386a5",
   "metadata": {},
   "outputs": [
    {
     "name": "stdout",
     "output_type": "stream",
     "text": [
      "The Toyota Camry has a seating capacity of 5.\n"
     ]
    }
   ],
   "source": [
    "#Q2\n",
    "class Vehicle:\n",
    "    def __init__(self, name_of_vehicle, max_speed, average_of_vehicle):\n",
    "        self.name_of_vehicle = name_of_vehicle\n",
    "        self.max_speed = max_speed\n",
    "        self.average_of_vehicle = average_of_vehicle\n",
    "\n",
    "\n",
    "class Car(Vehicle):\n",
    "    def seating_capacity(self, capacity):\n",
    "        return (f\"The {self.name_of_vehicle} has a seating capacity of {capacity}.\")\n",
    "\n",
    "# Example usage\n",
    "car = Car(\"Toyota Camry\", 200, 5)\n",
    "print(car.seating_capacity(5))"
   ]
  },
  {
   "cell_type": "code",
   "execution_count": null,
   "id": "ddf0526d-4a25-4d1e-aaa3-680c191a9358",
   "metadata": {},
   "outputs": [],
   "source": []
  },
  {
   "cell_type": "code",
   "execution_count": null,
   "id": "2f9923ba-a11b-45ab-95e4-2ca17c7dffa2",
   "metadata": {},
   "outputs": [],
   "source": [
    "#Q3\n",
    "Multiple inheritance is a feature in object-oriented programming where a class can inherit attributes\n",
    "and methods from multiple parent classes. This means that a child class can inherit from more than one \n",
    "base class.\n"
   ]
  },
  {
   "cell_type": "code",
   "execution_count": 2,
   "id": "8682d561-144f-49ad-8d05-f1f4cd2035c6",
   "metadata": {},
   "outputs": [
    {
     "name": "stdout",
     "output_type": "stream",
     "text": [
      "Toyota Camry\n",
      "Petrol\n",
      "\n",
      "\n",
      "Jaguar XF\n",
      "Diesel\n"
     ]
    }
   ],
   "source": [
    "class Vehicle:\n",
    "    def __init__(self, name):\n",
    "        self.name = name\n",
    "\n",
    "    def get_name(self):\n",
    "        return self.name\n",
    "\n",
    "\n",
    "class Engine:\n",
    "    def __init__(self, fuel_type):\n",
    "        self.fuel_type = fuel_type\n",
    "\n",
    "    def get_fuel_type(self):\n",
    "        return self.fuel_type\n",
    "\n",
    "\n",
    "class Car(Vehicle, Engine):\n",
    "    def __init__(self, name, fuel_type):\n",
    "        Vehicle.__init__(self, name)\n",
    "        Engine.__init__(self, fuel_type)\n",
    "\n",
    "\n",
    "# Create an instance of the Car class\n",
    "my_car1 = Car(\"Toyota Camry\", \"Petrol\")\n",
    "\n",
    "# Access the inherited methods\n",
    "print(my_car1.get_name())\n",
    "print(my_car1.get_fuel_type())\n",
    "\n",
    "print(\"\\n\")\n",
    "\n",
    "my_car2 = Car(\"Jaguar XF\", \"Diesel\")\n",
    "\n",
    "print(my_car2.get_name())\n",
    "print(my_car2.get_fuel_type())\n",
    "\n"
   ]
  },
  {
   "cell_type": "code",
   "execution_count": null,
   "id": "6d1578f1-cd2e-4f0c-bd04-f91b83e27267",
   "metadata": {},
   "outputs": [],
   "source": []
  },
  {
   "cell_type": "code",
   "execution_count": null,
   "id": "f39f30e2-cd15-4726-bba7-7928a5b2fc16",
   "metadata": {},
   "outputs": [],
   "source": [
    "#Q4\n",
    "In Python, getters and setters are methods used to access (get) and modify (set) the values of class \n",
    "attributes, respectively. They provide a way to encapsulate the access and modification of attributes, \n",
    "allowing for better control over the attribute values and enabling validation or additional logic to be \n",
    "performed."
   ]
  },
  {
   "cell_type": "code",
   "execution_count": 4,
   "id": "6a15addc-0fb1-4c83-89b2-668a178b426c",
   "metadata": {},
   "outputs": [
    {
     "name": "stdout",
     "output_type": "stream",
     "text": [
      "John Doe\n",
      "Jane Smith\n",
      "\n",
      "\n",
      "Alan Poe\n",
      "Alex Pedro\n"
     ]
    }
   ],
   "source": [
    "class Person:\n",
    "    def __init__(self, name):\n",
    "        self.__name = name\n",
    "\n",
    "    def get_name(self):\n",
    "        return self.__name\n",
    "\n",
    "    def set_name(self, new_name):\n",
    "        self.__name = new_name\n",
    "\n",
    "\n",
    "# Create an instance of the Person class\n",
    "person1 = Person(\"John Doe\")\n",
    "\n",
    "# Get the name using the getter method\n",
    "print(person1.get_name())  # Output: John Doe\n",
    "\n",
    "# Set a new name using the setter method\n",
    "person1.set_name(\"Jane Smith\")\n",
    "\n",
    "# Get the updated name using the getter method\n",
    "print(person1.get_name())  # Output: Jane Smith\n",
    "\n",
    "print(\"\\n\")\n",
    "\n",
    "person2 = Person(\"Alan Poe\")\n",
    "\n",
    "# Get the name using the getter method\n",
    "print(person2.get_name())  # Output: Alan Poe\n",
    "\n",
    "# Set a new name using the setter method\n",
    "person2.set_name(\"Alex Pedro\")\n",
    "\n",
    "# Get the updated name using the getter method\n",
    "print(person2.get_name())  # Output: ALex Pedro"
   ]
  },
  {
   "cell_type": "code",
   "execution_count": null,
   "id": "dfb2bfde-cbff-458f-9c27-d419afd632a4",
   "metadata": {},
   "outputs": [],
   "source": []
  },
  {
   "cell_type": "code",
   "execution_count": null,
   "id": "19e94aca-18c5-4d0a-891d-9041988395c3",
   "metadata": {},
   "outputs": [],
   "source": [
    "#Q5\n",
    "Method overriding is a concept in object-oriented programming where a subclass provides a different \n",
    "implementation of a method that is already defined in its superclass. The subclass overrides the behavior \n",
    "of the method inherited from the superclass, allowing it to provide its own implementation."
   ]
  },
  {
   "cell_type": "code",
   "execution_count": null,
   "id": "e0202db4-39f6-4fe7-821c-6eb9950027b6",
   "metadata": {},
   "outputs": [],
   "source": [
    "class Animal:\n",
    "    def make_sound(self):\n",
    "        print(\"The animal makes a generic sound.\")\n",
    "\n",
    "class Cat(Animal):\n",
    "    def make_sound(self):\n",
    "        print(\"Meow!\")\n",
    "\n",
    "class Dog(Animal):\n",
    "    def make_sound(self):\n",
    "        print(\"Woof!\")\n",
    "\n",
    "# Create instances of the classes\n",
    "animal = Animal()\n",
    "cat = Cat()\n",
    "dog = Dog()\n",
    "\n",
    "# Call the overridden methods\n",
    "animal.make_sound()  # Output: The animal makes a generic sound.\n",
    "cat.make_sound()     # Output: Meow!\n",
    "dog.make_sound()     # Output: Woof!\n"
   ]
  }
 ],
 "metadata": {
  "kernelspec": {
   "display_name": "Python 3 (ipykernel)",
   "language": "python",
   "name": "python3"
  },
  "language_info": {
   "codemirror_mode": {
    "name": "ipython",
    "version": 3
   },
   "file_extension": ".py",
   "mimetype": "text/x-python",
   "name": "python",
   "nbconvert_exporter": "python",
   "pygments_lexer": "ipython3",
   "version": "3.10.8"
  }
 },
 "nbformat": 4,
 "nbformat_minor": 5
}
